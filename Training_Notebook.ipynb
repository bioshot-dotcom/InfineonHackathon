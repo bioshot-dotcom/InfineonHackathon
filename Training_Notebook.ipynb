{
  "nbformat": 4,
  "nbformat_minor": 0,
  "metadata": {
    "colab": {
      "name": "Training_Notebook.ipynb",
      "provenance": [],
      "collapsed_sections": [
        "jMqOF9jVc5S6",
        "xV8izcOHC1xu",
        "I0TTPwV8MoXa",
        "pChfc38v_bYB",
        "QI4McqhNywuQ"
      ],
      "machine_shape": "hm"
    },
    "kernelspec": {
      "name": "python3",
      "display_name": "Python 3"
    },
    "accelerator": "GPU"
  },
  "cells": [
    {
      "cell_type": "markdown",
      "source": [
        "# Infineon Hackaton"
      ],
      "metadata": {
        "id": "MoKzZbn643_a"
      }
    },
    {
      "cell_type": "markdown",
      "source": [
        "Sync data with google drive"
      ],
      "metadata": {
        "id": "yWRRZLjQ5ACB"
      }
    },
    {
      "cell_type": "code",
      "metadata": {
        "colab": {
          "base_uri": "https://localhost:8080/"
        },
        "id": "54cDLhV0zoYO",
        "outputId": "5ff9ebb3-5555-4088-ecfe-4bf74bbce022"
      },
      "source": [
        "#We will load the data from google drive\n",
        "from google.colab import drive\n",
        "drive.mount('/content/drive')\n",
        "SEED = 1234"
      ],
      "execution_count": null,
      "outputs": [
        {
          "output_type": "stream",
          "name": "stdout",
          "text": [
            "Mounted at /content/drive\n"
          ]
        }
      ]
    },
    {
      "cell_type": "code",
      "source": [
        "to_sendx = xtestfinalgg[1:50, ...]\n",
        "to_sendy = ytestfinalgg[1:50, ...]"
      ],
      "metadata": {
        "id": "CIyncP2lbG5f"
      },
      "execution_count": null,
      "outputs": []
    },
    {
      "cell_type": "code",
      "source": [
        "import numpy as np\n",
        "np.save(\"/content/drive/MyDrive/Challenge2/sendx\", to_sendx)\n",
        "np.save(\"/content/drive/MyDrive/Challenge2/sendy\", to_sendy)"
      ],
      "metadata": {
        "id": "EPjUaVF2cLWk"
      },
      "execution_count": null,
      "outputs": []
    },
    {
      "cell_type": "markdown",
      "source": [
        "## Load and preprocess data\n",
        "\n",
        "The data was collected during the hackaton. We created 3 different environments each with 4 classes ( number of people, 0, 1, 2, 3 ).\n",
        "All the files are on drive. If you want to use the data please ask us to provide you the link"
      ],
      "metadata": {
        "id": "usxcG22tCDOQ"
      }
    },
    {
      "cell_type": "markdown",
      "source": [
        "### BCL environments"
      ],
      "metadata": {
        "id": "igiNjGW0DCcH"
      }
    },
    {
      "cell_type": "code",
      "source": [
        "import pandas as pd \n",
        "import numpy as np\n",
        "import pickle\n",
        "import tensorflow as tf\n",
        "import os \n",
        "\n",
        "\n",
        "# This file is on drive. If tou want to use it plead ask us to provide you the link\n",
        "open_file = open(\"/content/drive/MyDrive/sample.pkl\", \"rb\")\n",
        "loaded_list = pickle.load(open_file)\n",
        "open_file.close()\n",
        "\n",
        "array_loaded = np.array(loaded_list)\n",
        "array_loaded.shape\n",
        "from numpy import moveaxis\n",
        "gg = moveaxis(array_loaded, 1, 3)\n",
        "gg.shape"
      ],
      "metadata": {
        "id": "ZT8Uq9nNawhd",
        "colab": {
          "base_uri": "https://localhost:8080/"
        },
        "outputId": "cb65696e-c13f-4799-c9d0-e7118f5ced96"
      },
      "execution_count": null,
      "outputs": [
        {
          "output_type": "execute_result",
          "data": {
            "text/plain": [
              "(12000, 64, 64, 3)"
            ]
          },
          "metadata": {},
          "execution_count": 2
        }
      ]
    },
    {
      "cell_type": "code",
      "source": [
        "# Deleting unused objects \n",
        "array_loaded = None\n",
        "loaded_list = None "
      ],
      "metadata": {
        "id": "hxDUOqFU4EXy"
      },
      "execution_count": null,
      "outputs": []
    },
    {
      "cell_type": "code",
      "source": [
        "# Labels\n",
        "target_2 = [0] * 3000\n",
        "target_2.extend([1]*3000)\n",
        "target_2.extend([2]*3000)\n",
        "target_2.extend([3]*3000)\n",
        "target_2 = np.array(target_2)"
      ],
      "metadata": {
        "id": "ikw5aICXcwuz"
      },
      "execution_count": null,
      "outputs": []
    },
    {
      "cell_type": "markdown",
      "source": [
        "### Nave"
      ],
      "metadata": {
        "id": "QMZMoblMECOH"
      }
    },
    {
      "cell_type": "markdown",
      "source": [
        "Functions from infineon to preprocess the raw data"
      ],
      "metadata": {
        "id": "eVnnSASlE8X7"
      }
    },
    {
      "cell_type": "code",
      "source": [
        "from typing import Callable, Optional\n",
        "\n",
        "import numpy as np\n",
        "\n",
        "\n",
        "def range_fft(x: np.ndarray,\n",
        "              window: Optional[Callable[[int], np.ndarray]] = None,\n",
        "              remove_mean: bool = True) -> np.ndarray:\n",
        "    \"\"\"Apply a Range FFT.\n",
        "\n",
        "    Args:\n",
        "        x: Raw radar data of shape [..., n_samples].\n",
        "        window: Window function for Range FFT. If None, no window is applied. Otherwise, the given window\n",
        "            function is applied. (Default: None)\n",
        "        remove_mean: If True, remove mean along samples dimension. (Default: True)\n",
        "\n",
        "    Returns:\n",
        "        Transformed range data of shape [..., n_range].\n",
        "\n",
        "    Examples:\n",
        "        Dummy data: 10 frames, 3 antennas, 64 chirps, 128 samples.\n",
        "\n",
        "        >>> raw_data = np.random.rand(10,3,64,128)\n",
        "        >>> range_data = range_fft(raw_data)\n",
        "\n",
        "        Use window function. (Available in `scipy https://docs.scipy.org/doc/scipy/reference/signal.windows.html`)\n",
        "\n",
        "        >>> from scipy import signal\n",
        "        >>> range_data = range_fft(raw_data, signal.windows.blackman)\n",
        "\n",
        "        If window function uses additional parameters you can wrap it with lambda.\n",
        "\n",
        "        >>> range_window_func = lambda x: signal.windows.chebwin(x, at=100)\n",
        "        >>> range_data = range_fft(raw_data, range_window_func)\n",
        "\n",
        "    See Also:\n",
        "        :func:`doppler_fft`: Apply a Doppler FFT.\n",
        "    \"\"\"\n",
        "    n_samples = x.shape[-1]\n",
        "\n",
        "    if remove_mean:\n",
        "        x = x - x.mean(axis=-1, keepdims=True)\n",
        "\n",
        "    if window is not None:\n",
        "        w_array = window(n_samples)\n",
        "        w_array /= w_array.sum()  # Normalize window\n",
        "        x = x * w_array[(x.ndim - 1) * (None,) + (slice(None),)]\n",
        "    x_range = np.fft.fft(x, axis=-1)  # Range FFT\n",
        "    x_range = x_range[..., :n_samples // 2]  # Real data is symmetric\n",
        "\n",
        "    return x_range\n",
        "\n",
        "\n",
        "def doppler_fft(x: np.ndarray,\n",
        "                window: Optional[Callable[[int], np.ndarray]] = None) -> np.ndarray:\n",
        "    \"\"\"Apply a Doppler FFT.\n",
        "\n",
        "    Args:\n",
        "        x: Range data of shape [..., n_chirps, n_range].\n",
        "        window: Window function for Doppler FFT. If None, no window is applied. Otherwise, the given window\n",
        "            function is applied.\n",
        "\n",
        "    Returns:\n",
        "        Transformed range doppler data of shape [..., n_doppler, n_range].\n",
        "\n",
        "    Examples:\n",
        "        Dummy data: 10 frames, 3 antennas, 64 chirps, 128 range samples.\n",
        "\n",
        "        >>> range_data = np.random.rand(10,3,64,128)\n",
        "        >>> doppler_data = doppler_fft(range_data)\n",
        "\n",
        "        Use window function. (Available in `scipy https://docs.scipy.org/doc/scipy/reference/signal.windows.html`)\n",
        "\n",
        "        >>> from scipy import signal\n",
        "        >>> doppler_data = doppler_fft(range_data, signal.windows.blackman)\n",
        "\n",
        "        If window function uses additional parameters you can wrap it with lambda.\n",
        "\n",
        "        >>> doppler_window_func = lambda x: signal.windows.chebwin(x, at=100)\n",
        "        >>> doppler_data  = doppler_fft(range_data, doppler_window_func)\n",
        "\n",
        "    See Also:\n",
        "        :func:`range_fft`: Apply a Range FFT.\n",
        "    \"\"\"\n",
        "    n_chirps = x.shape[-2]\n",
        "\n",
        "    if window is not None:\n",
        "        w_array = window(n_chirps)\n",
        "        w_array /= w_array.sum()  # Normalize window\n",
        "        x = x * w_array[(x.ndim - 2) * (None,) + (slice(None), None)]\n",
        "    x_rdi = np.fft.fft(x, axis=-2)  # Doppler FFT\n",
        "    x_rdi = np.fft.fftshift(x_rdi, axes=-2)  # Swap spectrum\n",
        "\n",
        "    return x_rdi\n",
        "\n",
        "\n",
        "def range_doppler_fft(x: np.ndarray,\n",
        "                      range_window: Optional[Callable[[\n",
        "                          int], np.ndarray]] = None,\n",
        "                      doppler_window: Optional[Callable[[\n",
        "                          int], np.ndarray]] = None,\n",
        "                      remove_mean: bool = True) -> np.ndarray:\n",
        "    \"\"\"\n",
        "    Generate a Range Doppler Response.\n",
        "\n",
        "    Args:\n",
        "        x: Raw radar data of shape [..., n_chirps, n_samples].\n",
        "        range_window: Window function for Range FFT. If None, no window is applied. Otherwise, the given window\n",
        "            function is applied. (Default: None)\n",
        "        doppler_window: Window function for Doppler FFT. If None, no window is applied. Otherwise, the given window\n",
        "            function is applied. (Default: None)\n",
        "        remove_mean: If True, remove mean along samples dimension. (Default: True)\n",
        "\n",
        "    Returns:\n",
        "        Transformed range data of shape [..., n_doppler, n_range].\n",
        "\n",
        "    Examples:\n",
        "        Dummy data: 10 frames, 3 antennas, 64 chirps, 128 samples.\n",
        "\n",
        "        >>> raw_data = np.random.rand(10,3,64,128)\n",
        "        >>> rdi = range_doppler_fft(raw_data)\n",
        "\n",
        "        Use window function. (Available in `scipy https://docs.scipy.org/doc/scipy/reference/signal.windows.html`)\n",
        "\n",
        "        >>> from scipy import signal\n",
        "        >>> rdi = range_doppler_fft(raw_data, signal.windows.blackman, signal.windows.blackman)\n",
        "\n",
        "        If window function uses additional parameters you can wrap it with lambda.\n",
        "\n",
        "        >>> range_window_func = signal.windows.blackman\n",
        "        >>> doppler_window_func = lambda x: signal.windows.chebwin(x, at=100)\n",
        "        >>> rdi  = range_doppler_fft(raw_data, range_window_func, doppler_window_func)\n",
        "\n",
        "    \"\"\"\n",
        "\n",
        "    x_range = range_fft(x, range_window, remove_mean)\n",
        "    x_rdi = doppler_fft(x_range, doppler_window)\n",
        "\n",
        "    return x_rdi\n",
        "\n",
        "def processing_rangeDopplerData(st_data, compensateMotion=False):\n",
        "\n",
        "\n",
        "    range_doppler_data = range_doppler_fft(st_data)\n",
        "\n",
        "    return range_doppler_data\n",
        "\n",
        "import tensorflow as tf\n",
        "import os \n",
        "import numpy as np\n",
        "\n",
        "def processing_rangeDopplerData(st_data, compensateMotion=False):\n",
        "    range_doppler_data = range_doppler_fft(st_data)\n",
        "    return range_doppler_data\n"
      ],
      "metadata": {
        "id": "ruQWpuzJEXXH"
      },
      "execution_count": null,
      "outputs": []
    },
    {
      "cell_type": "markdown",
      "source": [
        "Here we are loading our data from the Nave environment"
      ],
      "metadata": {
        "id": "8BSlNnwFFVaa"
      }
    },
    {
      "cell_type": "code",
      "source": [
        "data3 = np.load('/content/drive/MyDrive/Challenge2/acquisizioni_nave/nave_raw_data_c3.npy')\n",
        "range_doppler_map3 = processing_rangeDopplerData(data3)\n",
        "print(\"(frame_index, receiver_index, chirp_index, sample_index)\")\n",
        " \n",
        "# The shape of the radar data depends on the radar settings.\n",
        "# The different dimensions of the shape are (frame_index, receiver_index, chirp_index, sample_index).\n",
        " \n",
        "data2 = np.load('/content/drive/MyDrive/Challenge2/acquisizioni_nave/nave_raw_data_c2.npy')\n",
        "range_doppler_map2 = processing_rangeDopplerData(data2)\n",
        "print(\"(frame_index, receiver_index, chirp_index, sample_index)\")\n",
        " \n",
        "data10 = np.load(\"/content/drive/MyDrive/Challenge2/acquisizioni_nave/nave_raw_data_c1e0.npy\")\n",
        "range_doppler_map10 = processing_rangeDopplerData(data10)\n",
        "print(\"(frame_index, receiver_index, chirp_index, sample_index)\")\n",
        "data11 = np.load(\"/content/drive/MyDrive/Challenge2/acquisizioni_nave/nave_raw_data_c1e1.npy\")\n",
        "range_doppler_map11 = processing_rangeDopplerData(data11)\n",
        "print(\"(frame_index, receiver_index, chirp_index, sample_index)\")\n",
        "data12 = np.load(\"/content/drive/MyDrive/Challenge2/acquisizioni_nave/nave_raw_data_c1e2.npy\")\n",
        "range_doppler_map12 = processing_rangeDopplerData(data12)\n",
        "print(\"(frame_index, receiver_index, chirp_index, sample_index)\")\n",
        " \n",
        "data00 = np.load(\"/content/drive/MyDrive/Challenge2/acquisizioni_nave/nave_raw_data_c0e0.npy\")\n",
        "range_doppler_map00 = processing_rangeDopplerData(data00)\n",
        "print(\"(frame_index, receiver_index, chirp_index, sample_index)\")\n",
        "data01 = np.load(\"/content/drive/MyDrive/Challenge2/acquisizioni_nave/nave_raw_data_c0e1.npy\")\n",
        "range_doppler_map01 = processing_rangeDopplerData(data01)\n",
        "print(\"(frame_index, receiver_index, chirp_index, sample_index)\")\n",
        "data02 = np.load(\"/content/drive/MyDrive/Challenge2/acquisizioni_nave/nave_raw_data_c0e2.npy\")\n",
        "range_doppler_map02 = processing_rangeDopplerData(data02)\n",
        "print(\"(frame_index, receiver_index, chirp_index, sample_index)\")\n",
        " \n",
        " \n",
        "data_to_append = []\n",
        " \n",
        "def create_2d_image(c1, c2, c3):\n",
        "    return np.vstack([np.expand_dims(c1, axis=0), np.expand_dims(c2, axis=0), np.expand_dims(c3, axis=0)])\n",
        " \n",
        "for i in range(data00.shape[0]):\n",
        "    data_to_append.append(create_2d_image(range_doppler_map00[i, 0, ...], range_doppler_map00[i, 1, ...], range_doppler_map00[i, 2, ...]))\n",
        "for i in range(data01.shape[0]):\n",
        "    data_to_append.append(create_2d_image(range_doppler_map01[i, 0, ...], range_doppler_map01[i, 1, ...], range_doppler_map01[i, 2, ...]))\n",
        "for i in range(data02.shape[0]):\n",
        "    data_to_append.append(create_2d_image(range_doppler_map02[i, 0, ...], range_doppler_map02[i, 1, ...], range_doppler_map02[i, 2, ...]))\n",
        "for i in range(data10.shape[0]):\n",
        "    data_to_append.append(create_2d_image(range_doppler_map10[i, 0, ...], range_doppler_map10[i, 1, ...], range_doppler_map10[i, 2, ...]))\n",
        "for i in range(data11.shape[0]):\n",
        "    data_to_append.append(create_2d_image(range_doppler_map11[i, 0, ...], range_doppler_map11[i, 1, ...], range_doppler_map11[i, 2, ...]))\n",
        "for i in range(data12.shape[0]):\n",
        "    data_to_append.append(create_2d_image(range_doppler_map12[i, 0, ...], range_doppler_map12[i, 1, ...], range_doppler_map12[i, 2, ...]))\n",
        "for i in range(data2.shape[0]):\n",
        "    data_to_append.append(create_2d_image(range_doppler_map2[i, 0, ...], range_doppler_map2[i, 1, ...], range_doppler_map2[i, 2, ...]))\n",
        "for i in range(data3.shape[0]):\n",
        "    data_to_append.append(create_2d_image(range_doppler_map3[i, 0, ...], range_doppler_map3[i, 1, ...], range_doppler_map3[i, 2, ...]))\n",
        "\n",
        "\n",
        "array_loaded = np.array(data_to_append)\n",
        "array_loaded.shape\n",
        "from numpy import moveaxis\n",
        "ggirenave = moveaxis(array_loaded, 1, 3)\n",
        "ggirenave.shape"
      ],
      "metadata": {
        "colab": {
          "base_uri": "https://localhost:8080/"
        },
        "id": "QDa1b7AYFMDr",
        "outputId": "60fb0f3f-d653-4c96-f7f2-c02b7114d9ff"
      },
      "execution_count": null,
      "outputs": [
        {
          "output_type": "stream",
          "name": "stdout",
          "text": [
            "(frame_index, receiver_index, chirp_index, sample_index)\n",
            "(frame_index, receiver_index, chirp_index, sample_index)\n",
            "(frame_index, receiver_index, chirp_index, sample_index)\n",
            "(frame_index, receiver_index, chirp_index, sample_index)\n",
            "(frame_index, receiver_index, chirp_index, sample_index)\n",
            "(frame_index, receiver_index, chirp_index, sample_index)\n",
            "(frame_index, receiver_index, chirp_index, sample_index)\n",
            "(frame_index, receiver_index, chirp_index, sample_index)\n"
          ]
        },
        {
          "output_type": "execute_result",
          "data": {
            "text/plain": [
              "(12000, 64, 64, 3)"
            ]
          },
          "metadata": {},
          "execution_count": 6
        }
      ]
    },
    {
      "cell_type": "code",
      "source": [
        "array_loaded = None\n",
        "loaded_list = None \n",
        "data00 = None\n",
        "data01 = None\n",
        "data02 = None\n",
        "data10 = None\n",
        "data11 = None\n",
        "data12 = None\n",
        "data2 = None\n",
        "data3 = None\n",
        "range_doppler_map3=None\n",
        "range_doppler_map2=None\n",
        "range_doppler_map00=None\n",
        "range_doppler_map01=None\n",
        "range_doppler_map02=None\n",
        "range_doppler_map10=None\n",
        "range_doppler_map11=None\n",
        "range_doppler_map12=None\n",
        "data_to_append=None"
      ],
      "metadata": {
        "id": "xGLSOeCKG5HC"
      },
      "execution_count": null,
      "outputs": []
    },
    {
      "cell_type": "markdown",
      "source": [
        "### ED 16"
      ],
      "metadata": {
        "id": "pDc50TPqGULH"
      }
    },
    {
      "cell_type": "code",
      "source": [
        "data3 = np.load(\"/content/drive/MyDrive/Challenge2/ed16/ed16_raw_data_c3.npy\")\n",
        "range_doppler_map3 = processing_rangeDopplerData(data3)\n",
        "print(\"(frame_index, receiver_index, chirp_index, sample_index)\")\n",
        " \n",
        "# The shape of the radar data depends on the radar settings.\n",
        "# The different dimensions of the shape are (frame_index, receiver_index, chirp_index, sample_index).\n",
        " \n",
        "data2 = np.load(\"/content/drive/MyDrive/Challenge2/ed16/ed16_raw_data_c2.npy\")\n",
        "range_doppler_map2 = processing_rangeDopplerData(data2)\n",
        "print(\"(frame_index, receiver_index, chirp_index, sample_index)\")\n",
        " \n",
        "data1 = np.load(\"/content/drive/MyDrive/Challenge2/ed16/ed16_raw_data_c1.npy\")\n",
        "range_doppler_map1 = processing_rangeDopplerData(data1)\n",
        "print(\"(frame_index, receiver_index, chirp_index, sample_index)\")\n",
        " \n",
        "data0 = np.load(\"/content/drive/MyDrive/Challenge2/ed16/ed16_raw_data_c0.npy\")\n",
        "range_doppler_map0 = processing_rangeDopplerData(data0)\n",
        "print(\"(frame_index, receiver_index, chirp_index, sample_index)\")\n",
        " \n",
        " \n",
        "data_to_append = []\n",
        " \n",
        "def create_2d_image(c1, c2, c3):\n",
        "    return np.vstack([np.expand_dims(c1, axis=0), np.expand_dims(c2, axis=0), np.expand_dims(c3, axis=0)])\n",
        " \n",
        "for i in range(data0.shape[0]):\n",
        "    data_to_append.append(create_2d_image(range_doppler_map0[i, 0, ...], range_doppler_map0[i, 1, ...], range_doppler_map0[i, 2, ...]))\n",
        " \n",
        "for i in range(data1.shape[0]):\n",
        "    data_to_append.append(create_2d_image(range_doppler_map1[i, 0, ...], range_doppler_map1[i, 1, ...], range_doppler_map1[i, 2, ...]))\n",
        " \n",
        "for i in range(data2.shape[0]):\n",
        "    data_to_append.append(create_2d_image(range_doppler_map2[i, 0, ...], range_doppler_map2[i, 1, ...], range_doppler_map2[i, 2, ...]))\n",
        " \n",
        "for i in range(data3.shape[0]):\n",
        "    data_to_append.append(create_2d_image(range_doppler_map3[i, 0, ...], range_doppler_map3[i, 1, ...], range_doppler_map3[i, 2, ...]))\n",
        "\n",
        "\n",
        "array_loaded = np.array(data_to_append)\n",
        "array_loaded.shape\n",
        "from numpy import moveaxis\n",
        "gged16 = moveaxis(array_loaded, 1, 3)\n",
        "gged16.shape"
      ],
      "metadata": {
        "colab": {
          "base_uri": "https://localhost:8080/"
        },
        "outputId": "f7ec61fd-a230-425c-dc13-da6d4cb0d3f7",
        "id": "NchNxSbbIlOi"
      },
      "execution_count": null,
      "outputs": [
        {
          "output_type": "stream",
          "name": "stdout",
          "text": [
            "(frame_index, receiver_index, chirp_index, sample_index)\n",
            "(frame_index, receiver_index, chirp_index, sample_index)\n",
            "(frame_index, receiver_index, chirp_index, sample_index)\n",
            "(frame_index, receiver_index, chirp_index, sample_index)\n"
          ]
        },
        {
          "output_type": "execute_result",
          "data": {
            "text/plain": [
              "(12000, 64, 64, 3)"
            ]
          },
          "metadata": {},
          "execution_count": 8
        }
      ]
    },
    {
      "cell_type": "code",
      "source": [
        "array_loaded = None\n",
        "data0 = None\n",
        "data1 = None\n",
        "data2 = None\n",
        "data3 = None\n",
        "range_doppler_map3=None\n",
        "range_doppler_map2=None\n",
        "range_doppler_map0=None\n",
        "range_doppler_map1=None\n",
        "data_to_append=None"
      ],
      "metadata": {
        "id": "i1gbvyeVI0-K"
      },
      "execution_count": null,
      "outputs": []
    },
    {
      "cell_type": "markdown",
      "source": [
        "## Model Building \n",
        "\n",
        "We use a CNN to classify each frame from the data gathered from the infineon sensor. The inputs are the frames read by the 3 antennas of our sensor. We create an RGB image by using for each antenna the respective frame. The final dimension of our input is (64, 64, 3). Where 3 is the number of channels"
      ],
      "metadata": {
        "id": "JFISMrlyI2sL"
      }
    },
    {
      "cell_type": "markdown",
      "source": [
        "We use transfer learning by using a pretrained network (EfficienNetV2L) and we train the layers starting from the 700th position. We got a total number of parameters of 64 M parameters"
      ],
      "metadata": {
        "id": "NKewQCshKSXM"
      }
    },
    {
      "cell_type": "code",
      "metadata": {
        "id": "-EdVj9o7z5sU"
      },
      "source": [
        "xception = tf.keras.applications.EfficientNetV2L(include_top=False,\n",
        "                                            weights='imagenet',\n",
        "                                            input_shape=(64, 64, 3))\n",
        "\n",
        "xception.trainable = True\n",
        "\n",
        "\n",
        "\n",
        "for i in range(700):\n",
        "  xception.layers[i].trainable = False\n",
        "\n",
        "model = tf.keras.Sequential()\n",
        "model.add(xception)\n",
        "model.add(tf.keras.layers.GlobalAveragePooling2D())\n",
        "model.add(tf.keras.layers.Dense(units=4, activation='softmax'))\n",
        "model.summary()"
      ],
      "execution_count": null,
      "outputs": []
    },
    {
      "cell_type": "code",
      "source": [
        "# Optimization params\n",
        "# -------------------\n",
        "# Loss\n",
        "loss = tf.keras.losses.SparseCategoricalCrossentropy()\n",
        "# learning rate\n",
        "lr = 3e-3     \n",
        "optimizer = tf.keras.optimizers.Adam(learning_rate=lr)\n",
        "# -------------------\n",
        "# Validation metrics\n",
        "# ------------------\n",
        "metrics = [\"accuracy\"]\n",
        "# ------------------\n",
        "# Compile Model\n",
        "model.compile(optimizer=optimizer, loss=loss, metrics=metrics)"
      ],
      "metadata": {
        "id": "ATr82Q_XKycn"
      },
      "execution_count": null,
      "outputs": []
    },
    {
      "cell_type": "markdown",
      "source": [
        "## Dataset\n",
        "\n",
        "We concatenate all the data from the 3 different environments to have a unique dataset. This will surely improve the generalization in other types of environments. Only indoor since the owners told us the only indoor environments is our target"
      ],
      "metadata": {
        "id": "zi5ru0rALiqT"
      }
    },
    {
      "cell_type": "code",
      "source": [
        "from sklearn.model_selection import train_test_split\n",
        "xtraingg, xtestgg, ytraingg, ytestgg = train_test_split(gg, target_2, test_size=0.2, stratify=target_2, random_state=0)\n",
        "xtrainggire, xtestggire, ytrainggire, ytestggire = train_test_split(ggirenave, target_2, test_size=0.2, stratify=target_2, random_state=0)\n",
        "xtraingged16, xtestgged16, ytraingged16, ytestgged16 = train_test_split(gged16, target_2, test_size=0.2, stratify=target_2, random_state=0)"
      ],
      "metadata": {
        "id": "LYL5EoJUMH1L"
      },
      "execution_count": null,
      "outputs": []
    },
    {
      "cell_type": "code",
      "source": [
        "gg = None\n",
        "ggirenave = None \n",
        "gged16 = None"
      ],
      "metadata": {
        "id": "4E9T07zKMH1M"
      },
      "execution_count": null,
      "outputs": []
    },
    {
      "cell_type": "code",
      "source": [
        "xtrainfinalgg = np.concatenate((xtraingg,xtrainggire,xtraingged16))\n",
        "xtestfinalgg=np.concatenate((xtestgg,xtestggire,xtestgged16))\n",
        "ytrainfinalgg = np.concatenate((ytraingg,ytrainggire,ytraingged16))\n",
        "ytestfinalgg=np.concatenate((ytestgg,ytestggire,ytestgged16))"
      ],
      "metadata": {
        "id": "j1ccNxYoMH1N"
      },
      "execution_count": null,
      "outputs": []
    },
    {
      "cell_type": "code",
      "source": [
        "xtrainggire=None\n",
        "xtestggire=None \n",
        "ytrainggire=None \n",
        "ytestggire=None\n",
        "xtraingg=None\n",
        "xtestgg=None \n",
        "ytraingg=None \n",
        "ytestgg=None\n",
        "xtraingged16=None\n",
        "xtestgged16=None \n",
        "ytraingged16=None \n",
        "ytestgged16=None"
      ],
      "metadata": {
        "id": "b3u_LdjCMH1N"
      },
      "execution_count": null,
      "outputs": []
    },
    {
      "cell_type": "code",
      "metadata": {
        "id": "qerC4cK50dli"
      },
      "source": [
        "import tensorflow as tf\n",
        "callbacks = []\n",
        "ckpt_dir = '/content/drive/MyDrive/Challenge2'\n",
        "\n",
        "ckpt_callback = tf.keras.callbacks.ModelCheckpoint(filepath=os.path.join(ckpt_dir, 'cp_{epoch:02d}.ckpt)'), \n",
        "                                                   save_weights_only=True,\n",
        "                                                   save_best_only=True,\n",
        "                                                   monitor='val_accuracy',\n",
        "                                                   mode='max') # False to save the model directly) # False to save the model directly\n",
        "callbacks.append(ckpt_callback)\n",
        "\n",
        "#es_callback = tf.keras.callbacks.EarlyStopping(monitor='val_accuracy', patience=8)  #The first run was with val loss\n",
        "\n",
        "#callbacks.append(es_callback)\n"
      ],
      "execution_count": null,
      "outputs": []
    },
    {
      "cell_type": "markdown",
      "source": [
        ""
      ],
      "metadata": {
        "id": "6iwfnfw8GSEK"
      }
    },
    {
      "cell_type": "markdown",
      "source": [
        "## Training"
      ],
      "metadata": {
        "id": "uFsPcK-c0I_4"
      }
    },
    {
      "cell_type": "code",
      "source": [
        "model.fit(x=xtrainfinalgg,  y=ytrainfinalgg,             ##Quello sotto rappresenta l'allenamento finale \n",
        "          epochs=100,  #### set repeat in traitning dataset\n",
        "          validation_data=(xtestfinalgg, ytestfinalgg))"
      ],
      "metadata": {
        "colab": {
          "base_uri": "https://localhost:8080/",
          "height": 1000
        },
        "id": "qjowqf5_t4xO",
        "outputId": "361ddaa6-44f6-44e7-fb2e-fe7b6f803124"
      },
      "execution_count": null,
      "outputs": [
        {
          "output_type": "stream",
          "name": "stdout",
          "text": [
            "Epoch 1/100\n",
            "900/900 [==============================] - 175s 158ms/step - loss: 0.6178 - accuracy: 0.7275 - val_loss: 0.8702 - val_accuracy: 0.6601\n",
            "Epoch 2/100\n",
            "900/900 [==============================] - 139s 155ms/step - loss: 0.4231 - accuracy: 0.8206 - val_loss: 0.4647 - val_accuracy: 0.8168\n",
            "Epoch 3/100\n",
            "900/900 [==============================] - 140s 155ms/step - loss: 0.3536 - accuracy: 0.8509 - val_loss: 0.3602 - val_accuracy: 0.8465\n",
            "Epoch 4/100\n",
            "900/900 [==============================] - 139s 154ms/step - loss: 0.3256 - accuracy: 0.8689 - val_loss: 0.4444 - val_accuracy: 0.8254\n",
            "Epoch 5/100\n",
            "900/900 [==============================] - 139s 154ms/step - loss: 0.2883 - accuracy: 0.8848 - val_loss: 0.3028 - val_accuracy: 0.8783\n",
            "Epoch 6/100\n",
            "900/900 [==============================] - 139s 154ms/step - loss: 0.2645 - accuracy: 0.8928 - val_loss: 0.2931 - val_accuracy: 0.8786\n",
            "Epoch 7/100\n",
            "900/900 [==============================] - 139s 154ms/step - loss: 0.2553 - accuracy: 0.8988 - val_loss: 0.2519 - val_accuracy: 0.9015\n",
            "Epoch 8/100\n",
            "900/900 [==============================] - 139s 155ms/step - loss: 0.2390 - accuracy: 0.9048 - val_loss: 0.2922 - val_accuracy: 0.8875\n",
            "Epoch 9/100\n",
            "900/900 [==============================] - 139s 154ms/step - loss: 0.2224 - accuracy: 0.9112 - val_loss: 0.2613 - val_accuracy: 0.8949\n",
            "Epoch 10/100\n",
            "900/900 [==============================] - 140s 155ms/step - loss: 0.2106 - accuracy: 0.9166 - val_loss: 0.3255 - val_accuracy: 0.8714\n",
            "Epoch 11/100\n",
            "900/900 [==============================] - 139s 155ms/step - loss: 0.1987 - accuracy: 0.9202 - val_loss: 0.2454 - val_accuracy: 0.9057\n",
            "Epoch 12/100\n",
            "900/900 [==============================] - 139s 155ms/step - loss: 0.1906 - accuracy: 0.9254 - val_loss: 0.2383 - val_accuracy: 0.9057\n",
            "Epoch 13/100\n",
            "900/900 [==============================] - 139s 155ms/step - loss: 0.1834 - accuracy: 0.9268 - val_loss: 0.2585 - val_accuracy: 0.9014\n",
            "Epoch 14/100\n",
            "900/900 [==============================] - 139s 155ms/step - loss: 0.1719 - accuracy: 0.9316 - val_loss: 0.2386 - val_accuracy: 0.9054\n",
            "Epoch 15/100\n",
            "900/900 [==============================] - 139s 155ms/step - loss: 0.1628 - accuracy: 0.9362 - val_loss: 0.3051 - val_accuracy: 0.8843\n",
            "Epoch 16/100\n",
            "900/900 [==============================] - 139s 155ms/step - loss: 0.1579 - accuracy: 0.9368 - val_loss: 0.2950 - val_accuracy: 0.9006\n",
            "Epoch 17/100\n",
            "900/900 [==============================] - 139s 154ms/step - loss: 0.1513 - accuracy: 0.9403 - val_loss: 0.2415 - val_accuracy: 0.9153\n",
            "Epoch 18/100\n",
            "900/900 [==============================] - 139s 154ms/step - loss: 0.1489 - accuracy: 0.9422 - val_loss: 0.2737 - val_accuracy: 0.9071\n",
            "Epoch 19/100\n",
            "900/900 [==============================] - 139s 154ms/step - loss: 0.1371 - accuracy: 0.9457 - val_loss: 0.2261 - val_accuracy: 0.9190\n",
            "Epoch 20/100\n",
            "900/900 [==============================] - 140s 156ms/step - loss: 0.1300 - accuracy: 0.9502 - val_loss: 0.2379 - val_accuracy: 0.9174\n",
            "Epoch 21/100\n",
            "900/900 [==============================] - 140s 156ms/step - loss: 0.1276 - accuracy: 0.9489 - val_loss: 0.2312 - val_accuracy: 0.9185\n",
            "Epoch 22/100\n",
            "900/900 [==============================] - 139s 154ms/step - loss: 0.1234 - accuracy: 0.9525 - val_loss: 0.2382 - val_accuracy: 0.9128\n",
            "Epoch 23/100\n",
            "900/900 [==============================] - 139s 155ms/step - loss: 0.1131 - accuracy: 0.9574 - val_loss: 0.3271 - val_accuracy: 0.8936\n",
            "Epoch 24/100\n",
            "900/900 [==============================] - 139s 155ms/step - loss: 0.1122 - accuracy: 0.9563 - val_loss: 0.2457 - val_accuracy: 0.9143\n",
            "Epoch 25/100\n",
            "417/900 [============>.................] - ETA: 1:05 - loss: 0.1100 - accuracy: 0.9552"
          ]
        },
        {
          "output_type": "error",
          "ename": "KeyboardInterrupt",
          "evalue": "ignored",
          "traceback": [
            "\u001b[0;31m---------------------------------------------------------------------------\u001b[0m",
            "\u001b[0;31mKeyboardInterrupt\u001b[0m                         Traceback (most recent call last)",
            "\u001b[0;32m<ipython-input-25-f4535248fcd3>\u001b[0m in \u001b[0;36m<module>\u001b[0;34m()\u001b[0m\n\u001b[1;32m      1\u001b[0m model.fit(x=xtrainfinalgg,  y=ytrainfinalgg,             ##Quello sotto rappresenta l'allenamento finale \n\u001b[1;32m      2\u001b[0m           \u001b[0mepochs\u001b[0m\u001b[0;34m=\u001b[0m\u001b[0;36m100\u001b[0m\u001b[0;34m,\u001b[0m  \u001b[0;31m#### set repeat in traitning dataset\u001b[0m\u001b[0;34m\u001b[0m\u001b[0;34m\u001b[0m\u001b[0m\n\u001b[0;32m----> 3\u001b[0;31m           validation_data=(xtestfinalgg, ytestfinalgg))\n\u001b[0m",
            "\u001b[0;32m/usr/local/lib/python3.7/dist-packages/keras/utils/traceback_utils.py\u001b[0m in \u001b[0;36merror_handler\u001b[0;34m(*args, **kwargs)\u001b[0m\n\u001b[1;32m     62\u001b[0m     \u001b[0mfiltered_tb\u001b[0m \u001b[0;34m=\u001b[0m \u001b[0;32mNone\u001b[0m\u001b[0;34m\u001b[0m\u001b[0;34m\u001b[0m\u001b[0m\n\u001b[1;32m     63\u001b[0m     \u001b[0;32mtry\u001b[0m\u001b[0;34m:\u001b[0m\u001b[0;34m\u001b[0m\u001b[0;34m\u001b[0m\u001b[0m\n\u001b[0;32m---> 64\u001b[0;31m       \u001b[0;32mreturn\u001b[0m \u001b[0mfn\u001b[0m\u001b[0;34m(\u001b[0m\u001b[0;34m*\u001b[0m\u001b[0margs\u001b[0m\u001b[0;34m,\u001b[0m \u001b[0;34m**\u001b[0m\u001b[0mkwargs\u001b[0m\u001b[0;34m)\u001b[0m\u001b[0;34m\u001b[0m\u001b[0;34m\u001b[0m\u001b[0m\n\u001b[0m\u001b[1;32m     65\u001b[0m     \u001b[0;32mexcept\u001b[0m \u001b[0mException\u001b[0m \u001b[0;32mas\u001b[0m \u001b[0me\u001b[0m\u001b[0;34m:\u001b[0m  \u001b[0;31m# pylint: disable=broad-except\u001b[0m\u001b[0;34m\u001b[0m\u001b[0;34m\u001b[0m\u001b[0m\n\u001b[1;32m     66\u001b[0m       \u001b[0mfiltered_tb\u001b[0m \u001b[0;34m=\u001b[0m \u001b[0m_process_traceback_frames\u001b[0m\u001b[0;34m(\u001b[0m\u001b[0me\u001b[0m\u001b[0;34m.\u001b[0m\u001b[0m__traceback__\u001b[0m\u001b[0;34m)\u001b[0m\u001b[0;34m\u001b[0m\u001b[0;34m\u001b[0m\u001b[0m\n",
            "\u001b[0;32m/usr/local/lib/python3.7/dist-packages/keras/engine/training.py\u001b[0m in \u001b[0;36mfit\u001b[0;34m(self, x, y, batch_size, epochs, verbose, callbacks, validation_split, validation_data, shuffle, class_weight, sample_weight, initial_epoch, steps_per_epoch, validation_steps, validation_batch_size, validation_freq, max_queue_size, workers, use_multiprocessing)\u001b[0m\n\u001b[1;32m   1382\u001b[0m                 _r=1):\n\u001b[1;32m   1383\u001b[0m               \u001b[0mcallbacks\u001b[0m\u001b[0;34m.\u001b[0m\u001b[0mon_train_batch_begin\u001b[0m\u001b[0;34m(\u001b[0m\u001b[0mstep\u001b[0m\u001b[0;34m)\u001b[0m\u001b[0;34m\u001b[0m\u001b[0;34m\u001b[0m\u001b[0m\n\u001b[0;32m-> 1384\u001b[0;31m               \u001b[0mtmp_logs\u001b[0m \u001b[0;34m=\u001b[0m \u001b[0mself\u001b[0m\u001b[0;34m.\u001b[0m\u001b[0mtrain_function\u001b[0m\u001b[0;34m(\u001b[0m\u001b[0miterator\u001b[0m\u001b[0;34m)\u001b[0m\u001b[0;34m\u001b[0m\u001b[0;34m\u001b[0m\u001b[0m\n\u001b[0m\u001b[1;32m   1385\u001b[0m               \u001b[0;32mif\u001b[0m \u001b[0mdata_handler\u001b[0m\u001b[0;34m.\u001b[0m\u001b[0mshould_sync\u001b[0m\u001b[0;34m:\u001b[0m\u001b[0;34m\u001b[0m\u001b[0;34m\u001b[0m\u001b[0m\n\u001b[1;32m   1386\u001b[0m                 \u001b[0mcontext\u001b[0m\u001b[0;34m.\u001b[0m\u001b[0masync_wait\u001b[0m\u001b[0;34m(\u001b[0m\u001b[0;34m)\u001b[0m\u001b[0;34m\u001b[0m\u001b[0;34m\u001b[0m\u001b[0m\n",
            "\u001b[0;32m/usr/local/lib/python3.7/dist-packages/tensorflow/python/util/traceback_utils.py\u001b[0m in \u001b[0;36merror_handler\u001b[0;34m(*args, **kwargs)\u001b[0m\n\u001b[1;32m    148\u001b[0m     \u001b[0mfiltered_tb\u001b[0m \u001b[0;34m=\u001b[0m \u001b[0;32mNone\u001b[0m\u001b[0;34m\u001b[0m\u001b[0;34m\u001b[0m\u001b[0m\n\u001b[1;32m    149\u001b[0m     \u001b[0;32mtry\u001b[0m\u001b[0;34m:\u001b[0m\u001b[0;34m\u001b[0m\u001b[0;34m\u001b[0m\u001b[0m\n\u001b[0;32m--> 150\u001b[0;31m       \u001b[0;32mreturn\u001b[0m \u001b[0mfn\u001b[0m\u001b[0;34m(\u001b[0m\u001b[0;34m*\u001b[0m\u001b[0margs\u001b[0m\u001b[0;34m,\u001b[0m \u001b[0;34m**\u001b[0m\u001b[0mkwargs\u001b[0m\u001b[0;34m)\u001b[0m\u001b[0;34m\u001b[0m\u001b[0;34m\u001b[0m\u001b[0m\n\u001b[0m\u001b[1;32m    151\u001b[0m     \u001b[0;32mexcept\u001b[0m \u001b[0mException\u001b[0m \u001b[0;32mas\u001b[0m \u001b[0me\u001b[0m\u001b[0;34m:\u001b[0m\u001b[0;34m\u001b[0m\u001b[0;34m\u001b[0m\u001b[0m\n\u001b[1;32m    152\u001b[0m       \u001b[0mfiltered_tb\u001b[0m \u001b[0;34m=\u001b[0m \u001b[0m_process_traceback_frames\u001b[0m\u001b[0;34m(\u001b[0m\u001b[0me\u001b[0m\u001b[0;34m.\u001b[0m\u001b[0m__traceback__\u001b[0m\u001b[0;34m)\u001b[0m\u001b[0;34m\u001b[0m\u001b[0;34m\u001b[0m\u001b[0m\n",
            "\u001b[0;32m/usr/local/lib/python3.7/dist-packages/tensorflow/python/eager/def_function.py\u001b[0m in \u001b[0;36m__call__\u001b[0;34m(self, *args, **kwds)\u001b[0m\n\u001b[1;32m    913\u001b[0m \u001b[0;34m\u001b[0m\u001b[0m\n\u001b[1;32m    914\u001b[0m       \u001b[0;32mwith\u001b[0m \u001b[0mOptionalXlaContext\u001b[0m\u001b[0;34m(\u001b[0m\u001b[0mself\u001b[0m\u001b[0;34m.\u001b[0m\u001b[0m_jit_compile\u001b[0m\u001b[0;34m)\u001b[0m\u001b[0;34m:\u001b[0m\u001b[0;34m\u001b[0m\u001b[0;34m\u001b[0m\u001b[0m\n\u001b[0;32m--> 915\u001b[0;31m         \u001b[0mresult\u001b[0m \u001b[0;34m=\u001b[0m \u001b[0mself\u001b[0m\u001b[0;34m.\u001b[0m\u001b[0m_call\u001b[0m\u001b[0;34m(\u001b[0m\u001b[0;34m*\u001b[0m\u001b[0margs\u001b[0m\u001b[0;34m,\u001b[0m \u001b[0;34m**\u001b[0m\u001b[0mkwds\u001b[0m\u001b[0;34m)\u001b[0m\u001b[0;34m\u001b[0m\u001b[0;34m\u001b[0m\u001b[0m\n\u001b[0m\u001b[1;32m    916\u001b[0m \u001b[0;34m\u001b[0m\u001b[0m\n\u001b[1;32m    917\u001b[0m       \u001b[0mnew_tracing_count\u001b[0m \u001b[0;34m=\u001b[0m \u001b[0mself\u001b[0m\u001b[0;34m.\u001b[0m\u001b[0mexperimental_get_tracing_count\u001b[0m\u001b[0;34m(\u001b[0m\u001b[0;34m)\u001b[0m\u001b[0;34m\u001b[0m\u001b[0;34m\u001b[0m\u001b[0m\n",
            "\u001b[0;32m/usr/local/lib/python3.7/dist-packages/tensorflow/python/eager/def_function.py\u001b[0m in \u001b[0;36m_call\u001b[0;34m(self, *args, **kwds)\u001b[0m\n\u001b[1;32m    945\u001b[0m       \u001b[0;31m# In this case we have created variables on the first call, so we run the\u001b[0m\u001b[0;34m\u001b[0m\u001b[0;34m\u001b[0m\u001b[0;34m\u001b[0m\u001b[0m\n\u001b[1;32m    946\u001b[0m       \u001b[0;31m# defunned version which is guaranteed to never create variables.\u001b[0m\u001b[0;34m\u001b[0m\u001b[0;34m\u001b[0m\u001b[0;34m\u001b[0m\u001b[0m\n\u001b[0;32m--> 947\u001b[0;31m       \u001b[0;32mreturn\u001b[0m \u001b[0mself\u001b[0m\u001b[0;34m.\u001b[0m\u001b[0m_stateless_fn\u001b[0m\u001b[0;34m(\u001b[0m\u001b[0;34m*\u001b[0m\u001b[0margs\u001b[0m\u001b[0;34m,\u001b[0m \u001b[0;34m**\u001b[0m\u001b[0mkwds\u001b[0m\u001b[0;34m)\u001b[0m  \u001b[0;31m# pylint: disable=not-callable\u001b[0m\u001b[0;34m\u001b[0m\u001b[0;34m\u001b[0m\u001b[0m\n\u001b[0m\u001b[1;32m    948\u001b[0m     \u001b[0;32melif\u001b[0m \u001b[0mself\u001b[0m\u001b[0;34m.\u001b[0m\u001b[0m_stateful_fn\u001b[0m \u001b[0;32mis\u001b[0m \u001b[0;32mnot\u001b[0m \u001b[0;32mNone\u001b[0m\u001b[0;34m:\u001b[0m\u001b[0;34m\u001b[0m\u001b[0;34m\u001b[0m\u001b[0m\n\u001b[1;32m    949\u001b[0m       \u001b[0;31m# Release the lock early so that multiple threads can perform the call\u001b[0m\u001b[0;34m\u001b[0m\u001b[0;34m\u001b[0m\u001b[0;34m\u001b[0m\u001b[0m\n",
            "\u001b[0;32m/usr/local/lib/python3.7/dist-packages/tensorflow/python/eager/function.py\u001b[0m in \u001b[0;36m__call__\u001b[0;34m(self, *args, **kwargs)\u001b[0m\n\u001b[1;32m   2955\u001b[0m        filtered_flat_args) = self._maybe_define_function(args, kwargs)\n\u001b[1;32m   2956\u001b[0m     return graph_function._call_flat(\n\u001b[0;32m-> 2957\u001b[0;31m         filtered_flat_args, captured_inputs=graph_function.captured_inputs)  # pylint: disable=protected-access\n\u001b[0m\u001b[1;32m   2958\u001b[0m \u001b[0;34m\u001b[0m\u001b[0m\n\u001b[1;32m   2959\u001b[0m   \u001b[0;34m@\u001b[0m\u001b[0mproperty\u001b[0m\u001b[0;34m\u001b[0m\u001b[0;34m\u001b[0m\u001b[0m\n",
            "\u001b[0;32m/usr/local/lib/python3.7/dist-packages/tensorflow/python/eager/function.py\u001b[0m in \u001b[0;36m_call_flat\u001b[0;34m(self, args, captured_inputs, cancellation_manager)\u001b[0m\n\u001b[1;32m   1852\u001b[0m       \u001b[0;31m# No tape is watching; skip to running the function.\u001b[0m\u001b[0;34m\u001b[0m\u001b[0;34m\u001b[0m\u001b[0;34m\u001b[0m\u001b[0m\n\u001b[1;32m   1853\u001b[0m       return self._build_call_outputs(self._inference_function.call(\n\u001b[0;32m-> 1854\u001b[0;31m           ctx, args, cancellation_manager=cancellation_manager))\n\u001b[0m\u001b[1;32m   1855\u001b[0m     forward_backward = self._select_forward_and_backward_functions(\n\u001b[1;32m   1856\u001b[0m         \u001b[0margs\u001b[0m\u001b[0;34m,\u001b[0m\u001b[0;34m\u001b[0m\u001b[0;34m\u001b[0m\u001b[0m\n",
            "\u001b[0;32m/usr/local/lib/python3.7/dist-packages/tensorflow/python/eager/function.py\u001b[0m in \u001b[0;36mcall\u001b[0;34m(self, ctx, args, cancellation_manager)\u001b[0m\n\u001b[1;32m    502\u001b[0m               \u001b[0minputs\u001b[0m\u001b[0;34m=\u001b[0m\u001b[0margs\u001b[0m\u001b[0;34m,\u001b[0m\u001b[0;34m\u001b[0m\u001b[0;34m\u001b[0m\u001b[0m\n\u001b[1;32m    503\u001b[0m               \u001b[0mattrs\u001b[0m\u001b[0;34m=\u001b[0m\u001b[0mattrs\u001b[0m\u001b[0;34m,\u001b[0m\u001b[0;34m\u001b[0m\u001b[0;34m\u001b[0m\u001b[0m\n\u001b[0;32m--> 504\u001b[0;31m               ctx=ctx)\n\u001b[0m\u001b[1;32m    505\u001b[0m         \u001b[0;32melse\u001b[0m\u001b[0;34m:\u001b[0m\u001b[0;34m\u001b[0m\u001b[0;34m\u001b[0m\u001b[0m\n\u001b[1;32m    506\u001b[0m           outputs = execute.execute_with_cancellation(\n",
            "\u001b[0;32m/usr/local/lib/python3.7/dist-packages/tensorflow/python/eager/execute.py\u001b[0m in \u001b[0;36mquick_execute\u001b[0;34m(op_name, num_outputs, inputs, attrs, ctx, name)\u001b[0m\n\u001b[1;32m     53\u001b[0m     \u001b[0mctx\u001b[0m\u001b[0;34m.\u001b[0m\u001b[0mensure_initialized\u001b[0m\u001b[0;34m(\u001b[0m\u001b[0;34m)\u001b[0m\u001b[0;34m\u001b[0m\u001b[0;34m\u001b[0m\u001b[0m\n\u001b[1;32m     54\u001b[0m     tensors = pywrap_tfe.TFE_Py_Execute(ctx._handle, device_name, op_name,\n\u001b[0;32m---> 55\u001b[0;31m                                         inputs, attrs, num_outputs)\n\u001b[0m\u001b[1;32m     56\u001b[0m   \u001b[0;32mexcept\u001b[0m \u001b[0mcore\u001b[0m\u001b[0;34m.\u001b[0m\u001b[0m_NotOkStatusException\u001b[0m \u001b[0;32mas\u001b[0m \u001b[0me\u001b[0m\u001b[0;34m:\u001b[0m\u001b[0;34m\u001b[0m\u001b[0;34m\u001b[0m\u001b[0m\n\u001b[1;32m     57\u001b[0m     \u001b[0;32mif\u001b[0m \u001b[0mname\u001b[0m \u001b[0;32mis\u001b[0m \u001b[0;32mnot\u001b[0m \u001b[0;32mNone\u001b[0m\u001b[0;34m:\u001b[0m\u001b[0;34m\u001b[0m\u001b[0;34m\u001b[0m\u001b[0m\n",
            "\u001b[0;31mKeyboardInterrupt\u001b[0m: "
          ]
        }
      ]
    },
    {
      "cell_type": "markdown",
      "source": [
        ""
      ],
      "metadata": {
        "id": "3lORLSwW415y"
      }
    },
    {
      "cell_type": "markdown",
      "source": [
        "## Save model"
      ],
      "metadata": {
        "id": "KOCjOujt9q8C"
      }
    },
    {
      "cell_type": "code",
      "source": [
        "model.save_weights(\"/content/drive/MyDrive/Challenge2/checkpoint\")"
      ],
      "metadata": {
        "id": "cg2Y9CRM72ci"
      },
      "execution_count": null,
      "outputs": []
    },
    {
      "cell_type": "markdown",
      "source": [
        "## Evaluate model"
      ],
      "metadata": {
        "id": "sGgtsJLk9vpB"
      }
    },
    {
      "cell_type": "code",
      "source": [
        "data_new = np.load(\"/content/drive/MyDrive/Challenge2/ed16/ed16_raw_data_c3.npy\")\n",
        "range_doppler_map_new = processing_rangeDopplerData(data_new)\n",
        "data_to_append_new = []\n",
        " \n",
        "def create_2d_image(c1, c2, c3):\n",
        "    return np.vstack([np.expand_dims(c1, axis=0), np.expand_dims(c2, axis=0), np.expand_dims(c3, axis=0)])\n",
        "for i in range(data_new.shape[0]):\n",
        "    data_to_append.append(create_2d_image(range_doppler_map_new[i, 0, ...], range_doppler_new[i, 1, ...], range_doppler_new[i, 2, ...]))\n",
        "\n",
        "array_loaded_new = np.array(data_to_append_new)\n",
        "array_loaded_new.shape\n",
        "from numpy import moveaxis\n",
        "gg_new = moveaxis(array_loaded_new, 1, 3)\n",
        "gg_new.shape"
      ],
      "metadata": {
        "id": "e-mCOSl7Eh82"
      },
      "execution_count": null,
      "outputs": []
    },
    {
      "cell_type": "code",
      "source": [
        "from sklearn.metrics import confusion_matrix\n",
        "predictions = model.predict(xtestfinalgg)\n",
        "predictions = np.argmax(predictions, axis=1)\n",
        "cf = confusion_matrix(ytestfinalgg, predictions, normalize='true')"
      ],
      "metadata": {
        "id": "LCIvaUpsjInx"
      },
      "execution_count": null,
      "outputs": []
    },
    {
      "cell_type": "code",
      "source": [
        "from sklearn.metrics import confusion_matrix, ConfusionMatrixDisplay\n",
        "import matplotlib.pyplot as plt\n",
        "cf = confusion_matrix(ytestfinalgg, predictions, normalize='true')\n",
        "disp = ConfusionMatrixDisplay(confusion_matrix=cf,display_labels=[\"0\",\"1\",\"2\",\"3\"])\n",
        "disp.plot(cmap=plt.cm.Greys)\n"
      ],
      "metadata": {
        "colab": {
          "base_uri": "https://localhost:8080/",
          "height": 301
        },
        "id": "6VRDFsCzj8Gt",
        "outputId": "918e1e8c-863c-43b1-d34e-ab7d95add0ac"
      },
      "execution_count": null,
      "outputs": [
        {
          "output_type": "execute_result",
          "data": {
            "text/plain": [
              "<sklearn.metrics._plot.confusion_matrix.ConfusionMatrixDisplay at 0x7f11ef8e2fd0>"
            ]
          },
          "metadata": {},
          "execution_count": 46
        },
        {
          "output_type": "display_data",
          "data": {
            "text/plain": [
              "<Figure size 432x288 with 2 Axes>"
            ],
            "image/png": "[encoded data removed]"
          },
          "metadata": {
            "needs_background": "light"
          }
        }
      ]
    }
  ]
}